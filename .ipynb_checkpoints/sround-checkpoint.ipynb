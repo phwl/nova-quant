{
 "cells": [
  {
   "cell_type": "markdown",
   "metadata": {},
   "source": [
    "# Stochastic Rounding Tutorial "
   ]
  },
  {
   "cell_type": "markdown",
   "metadata": {},
   "source": [
    "## 1. Unoptimised implementation"
   ]
  },
  {
   "cell_type": "markdown",
   "metadata": {},
   "source": [
    "First import numpy and timing libraries"
   ]
  },
  {
   "cell_type": "code",
   "execution_count": 1,
   "metadata": {},
   "outputs": [],
   "source": [
    "import numpy as np\n",
    "from timeit import timeit\n",
    "\n",
    "# computes elementwise relative error of elements of lists x1 and x2\n",
    "def relative_error(x1, x2):\n",
    "    ret = []\n",
    "    for (i, r) in zip(x1, x2):\n",
    "        ret.append(abs(i - r) / r)\n",
    "    return ret"
   ]
  },
  {
   "cell_type": "markdown",
   "metadata": {},
   "source": [
    "Unoptimised implementation of stochastic rounding. "
   ]
  },
  {
   "cell_type": "code",
   "execution_count": 2,
   "metadata": {},
   "outputs": [],
   "source": [
    "# from https://medium.com/@minghz42/what-is-stochastic-rounding-b78670d0c4a\n",
    "# Generates s randomly rounded values of x. The mean should be x.\n",
    "def rstoc(x, s):\n",
    "    r = []\n",
    "    for i in range(s):\n",
    "        decimal = abs(x - np.trunc(x))\n",
    "        random_selector = np.random.random_sample()\n",
    "        if (random_selector < decimal):\n",
    "            adjustor = 1\n",
    "        else:\n",
    "            adjustor = 0\n",
    "        if(x < 0):\n",
    "            adjustor = -1 * adjustor\n",
    "        r.append(np.trunc(x) + adjustor)\n",
    "    return r\n",
    "\n",
    "# For each element x of the list v, compute the mean of rstoc(x, s). Return as another list\n",
    "def E_seq(v, s):\n",
    "    return map(lambda x : np.mean(rstoc(x, s)), v)"
   ]
  },
  {
   "cell_type": "markdown",
   "metadata": {},
   "source": [
    "Run stochastic rounding for different values of s (and a fixed v). The output is the relative error compared with the expected value."
   ]
  },
  {
   "cell_type": "code",
   "execution_count": 3,
   "metadata": {},
   "outputs": [
    {
     "name": "stdout",
     "output_type": "stream",
     "text": [
      "1 [-0.18962722852512154, 1.0, 1.0, 0.47297098247164543]\n",
      "10 [-0.02755267423014589, 1.0, 0.19999999999999996, 0.03107968773015173]\n",
      "100 [-0.061588330632090814, 0.0, 0.040000000000000036, 0.04256886139343044]\n",
      "1000 [-0.006482982171799033, 0.08000000000000007, 0.03600000000000003, 0.005744586831639275]\n",
      "10000 [-0.005429497568881628, 0.01700000000000007, 0.02200000000000002, 0.0041243187509206435]\n",
      "100000 [-0.00015397082658015596, 0.002399999999999902, 0.0049400000000000555, 0.0009574311386064641]\n",
      "1000000 [-0.0002593192868720405, 0.0027699999999999947, 0.0009679999999999689, 0.0010737958462217997]\n",
      "Execution time rstoc() 17.65406552 \n",
      "\n"
     ]
    }
   ],
   "source": [
    "spower = 7 \t# samples to try (execution time grows exponentiall)\n",
    "v = [-1.234, 0.1, 0.5, 0.6789]\n",
    "\n",
    "# this function runs \n",
    "def run_rstoc():\n",
    "    for i in range(spower):\n",
    "        print(10 ** i, list(relative_error(E_seq(v, 10 ** i), v)))\n",
    "t_rstoc = timeit(run_rstoc, number=1)\n",
    "print(\"Execution time rstoc()\", t_rstoc, '\\n')"
   ]
  },
  {
   "cell_type": "markdown",
   "metadata": {},
   "source": [
    "## 2. Optimised implementation\n",
    "\n",
    "In this part, change frstoc() to be as fast as possible (while computing the correct result)"
   ]
  },
  {
   "cell_type": "markdown",
   "metadata": {},
   "source": [
    "Here is a faster implementation in which the s random samples are generated in frstoc"
   ]
  },
  {
   "cell_type": "code",
   "execution_count": 4,
   "metadata": {},
   "outputs": [],
   "source": [
    "# replace with your optimised implementation \n",
    "def frstoc(x, s):  \n",
    "    return 0\n",
    "\n",
    "# For each element x of the list v, compute the mean of rstoc(x, s). Return as another list\n",
    "def E_vec(v, s):\n",
    "    return map(lambda x : np.mean(frstoc(x, s)), v)\n",
    "\n",
    "def run_vec():\n",
    "    for i in range(spower):\n",
    "        print(10 ** i, list(relative_error(E_vec(v, 10 ** i), v)))"
   ]
  },
  {
   "cell_type": "markdown",
   "metadata": {},
   "source": [
    "Run and check speed"
   ]
  },
  {
   "cell_type": "code",
   "execution_count": 5,
   "metadata": {},
   "outputs": [
    {
     "name": "stdout",
     "output_type": "stream",
     "text": [
      "1 [-1.0, 1.0, 1.0, 1.0]\n",
      "10 [-1.0, 1.0, 1.0, 1.0]\n",
      "100 [-1.0, 1.0, 1.0, 1.0]\n",
      "1000 [-1.0, 1.0, 1.0, 1.0]\n",
      "10000 [-1.0, 1.0, 1.0, 1.0]\n",
      "100000 [-1.0, 1.0, 1.0, 1.0]\n",
      "1000000 [-1.0, 1.0, 1.0, 1.0]\n",
      "Execution time vec_f_rstoc() 0.004445957999998029\n",
      "Speedup 3970.81248181108\n"
     ]
    }
   ],
   "source": [
    "t_frstoc = timeit(run_vec, number=1)\n",
    "print(\"Execution time vec_f_rstoc()\", t_frstoc)\n",
    "print(\"Speedup\", t_rstoc / t_frstoc)\n"
   ]
  },
  {
   "cell_type": "code",
   "execution_count": null,
   "metadata": {},
   "outputs": [],
   "source": []
  }
 ],
 "metadata": {
  "kernelspec": {
   "display_name": "Python 3",
   "language": "python",
   "name": "python3"
  },
  "language_info": {
   "codemirror_mode": {
    "name": "ipython",
    "version": 3
   },
   "file_extension": ".py",
   "mimetype": "text/x-python",
   "name": "python",
   "nbconvert_exporter": "python",
   "pygments_lexer": "ipython3",
   "version": "3.7.3"
  }
 },
 "nbformat": 4,
 "nbformat_minor": 2
}
