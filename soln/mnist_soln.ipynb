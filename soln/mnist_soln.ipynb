{
 "cells": [
  {
   "cell_type": "markdown",
   "metadata": {},
   "source": [
    "# MNIST Low Precision Training Example\n",
    "In this notebook, we present a quick example of how to simulate training a deep neural network in low precision with QPyTorch. The (very small) MNIST data set is used as it is trainable in about 10 minutes on a notebook computer."
   ]
  },
  {
   "cell_type": "markdown",
   "metadata": {},
   "source": [
    "## 1. Training MNIST in Floating Point"
   ]
  },
  {
   "cell_type": "code",
   "execution_count": 1,
   "metadata": {},
   "outputs": [],
   "source": [
    "# import useful modules\n",
    "import argparse\n",
    "import os\n",
    "import torch\n",
    "import torch.nn as nn\n",
    "import torch.nn.functional as F\n",
    "import torchvision\n",
    "import torchvision.transforms as transforms\n",
    "from qtorch.quant import Quantizer\n",
    "from qtorch.optim import OptimLP\n",
    "from torch.optim import SGD\n",
    "from qtorch import BlockFloatingPoint, FloatingPoint, FixedPoint\n",
    "from tqdm import tqdm"
   ]
  },
  {
   "cell_type": "markdown",
   "metadata": {},
   "source": [
    "Record start time so we can time execution."
   ]
  },
  {
   "cell_type": "code",
   "execution_count": 2,
   "metadata": {},
   "outputs": [],
   "source": [
    "import time\n",
    "start_time = time.time()"
   ]
  },
  {
   "cell_type": "markdown",
   "metadata": {},
   "source": [
    "We first load the data. In this example, we will experiment with MNIST."
   ]
  },
  {
   "cell_type": "code",
   "execution_count": 3,
   "metadata": {
    "scrolled": false
   },
   "outputs": [
    {
     "name": "stderr",
     "output_type": "stream",
     "text": [
      "\r",
      "0it [00:00, ?it/s]"
     ]
    },
    {
     "name": "stdout",
     "output_type": "stream",
     "text": [
      "Downloading http://yann.lecun.com/exdb/mnist/train-images-idx3-ubyte.gz to ./data/MNIST/MNIST/raw/train-images-idx3-ubyte.gz\n"
     ]
    },
    {
     "name": "stderr",
     "output_type": "stream",
     "text": [
      "9920512it [00:01, 6262308.10it/s]                             \n"
     ]
    },
    {
     "name": "stdout",
     "output_type": "stream",
     "text": [
      "Extracting ./data/MNIST/MNIST/raw/train-images-idx3-ubyte.gz\n"
     ]
    },
    {
     "name": "stderr",
     "output_type": "stream",
     "text": [
      "\r",
      "0it [00:00, ?it/s]"
     ]
    },
    {
     "name": "stdout",
     "output_type": "stream",
     "text": [
      "Downloading http://yann.lecun.com/exdb/mnist/train-labels-idx1-ubyte.gz to ./data/MNIST/MNIST/raw/train-labels-idx1-ubyte.gz\n"
     ]
    },
    {
     "name": "stderr",
     "output_type": "stream",
     "text": [
      "32768it [00:00, 93838.69it/s]            \n",
      "0it [00:00, ?it/s]"
     ]
    },
    {
     "name": "stdout",
     "output_type": "stream",
     "text": [
      "Extracting ./data/MNIST/MNIST/raw/train-labels-idx1-ubyte.gz\n",
      "Downloading http://yann.lecun.com/exdb/mnist/t10k-images-idx3-ubyte.gz to ./data/MNIST/MNIST/raw/t10k-images-idx3-ubyte.gz\n"
     ]
    },
    {
     "name": "stderr",
     "output_type": "stream",
     "text": [
      "1654784it [00:00, 1816970.43it/s]                            \n",
      "0it [00:00, ?it/s]"
     ]
    },
    {
     "name": "stdout",
     "output_type": "stream",
     "text": [
      "Extracting ./data/MNIST/MNIST/raw/t10k-images-idx3-ubyte.gz\n",
      "Downloading http://yann.lecun.com/exdb/mnist/t10k-labels-idx1-ubyte.gz to ./data/MNIST/MNIST/raw/t10k-labels-idx1-ubyte.gz\n"
     ]
    },
    {
     "name": "stderr",
     "output_type": "stream",
     "text": [
      "8192it [00:00, 44688.33it/s]            \n"
     ]
    },
    {
     "name": "stdout",
     "output_type": "stream",
     "text": [
      "Extracting ./data/MNIST/MNIST/raw/t10k-labels-idx1-ubyte.gz\n",
      "Processing...\n",
      "Done!\n"
     ]
    }
   ],
   "source": [
    "# loading data\n",
    "ds = torchvision.datasets.MNIST\n",
    "path = os.path.join(\"./data\", \"MNIST\")\n",
    "transform_train = transforms.Compose([\n",
    "                           transforms.ToTensor(),\n",
    "                           transforms.Normalize((0.1307,), (0.3081,))])\n",
    "transform_test = transforms.Compose([\n",
    "                           transforms.ToTensor(),\n",
    "                           transforms.Normalize((0.1307,), (0.3081,))\n",
    "                       ])\n",
    "train_set = ds(path, train=True, download=True, transform=transform_train)\n",
    "test_set = ds(path, train=False, download=True, transform=transform_test)\n",
    "loaders = {\n",
    "        'train': torch.utils.data.DataLoader(\n",
    "            train_set,\n",
    "            batch_size=64,\n",
    "            shuffle=True,\n",
    "            num_workers=1,\n",
    "            pin_memory=True\n",
    "        ),\n",
    "        'test': torch.utils.data.DataLoader(\n",
    "            test_set,\n",
    "            batch_size=64,\n",
    "            num_workers=1,\n",
    "            pin_memory=True\n",
    "        )\n",
    "}"
   ]
  },
  {
   "cell_type": "markdown",
   "metadata": {},
   "source": [
    "We then define the quantization setting we are going to use. We define a low and high precision format for different parts of the computation."
   ]
  },
  {
   "cell_type": "code",
   "execution_count": 4,
   "metadata": {},
   "outputs": [],
   "source": [
    "# define two floating point formats\n",
    "lowp = FixedPoint(wl=8, fl=7)\n",
    "highp = FloatingPoint(exp=8, man=7)  # this is bfloat16\n",
    "\n",
    "# define quantization functions\n",
    "weight_quant = Quantizer(forward_number=lowp, backward_number=None,\n",
    "                        forward_rounding=\"nearest\", backward_rounding=\"nearest\")\n",
    "grad_quant = Quantizer(forward_number=lowp, backward_number=None,\n",
    "                        forward_rounding=\"nearest\", backward_rounding=\"stochastic\")\n",
    "momentum_quant = Quantizer(forward_number=highp, backward_number=None,\n",
    "                        forward_rounding=\"nearest\", backward_rounding=\"stochastic\")\n",
    "acc_quant = Quantizer(forward_number=highp, backward_number=None,\n",
    "                        forward_rounding=\"nearest\", backward_rounding=\"nearest\")\n",
    "\n",
    "# define a lambda function so that the Quantizer module can be duplicated easily\n",
    "act_error_quant = lambda : Quantizer(forward_number=lowp, backward_number=lowp,\n",
    "                        forward_rounding=\"nearest\", backward_rounding=\"nearest\")"
   ]
  },
  {
   "cell_type": "markdown",
   "metadata": {},
   "source": [
    "Next, we define a simple LeNet network. "
   ]
  },
  {
   "cell_type": "code",
   "execution_count": 5,
   "metadata": {},
   "outputs": [],
   "source": [
    "# let's define the model we are using\n",
    "class Net(nn.Module):\n",
    "    def __init__(self):\n",
    "        super(Net, self).__init__()\n",
    "        self.conv1 = nn.Conv2d(1, 20, 5, 1)\n",
    "        self.conv2 = nn.Conv2d(20, 50, 5, 1)\n",
    "        self.fc1 = nn.Linear(4*4*50, 500)\n",
    "        self.fc2 = nn.Linear(500, 10)\n",
    "\n",
    "    def forward(self, x):\n",
    "        x = F.relu(self.conv1(x))\n",
    "        x = F.max_pool2d(x, 2, 2)\n",
    "        x = F.relu(self.conv2(x))\n",
    "        x = F.max_pool2d(x, 2, 2)\n",
    "        x = x.view(-1, 4*4*50)\n",
    "        x = F.relu(self.fc1(x))\n",
    "        x = self.fc2(x)\n",
    "        return F.log_softmax(x, dim=1)\n",
    "\n"
   ]
  },
  {
   "cell_type": "markdown",
   "metadata": {},
   "source": [
    "We now use the low-precision optimizer wrapper to help define the quantization of weight, gradient, momentum, and gradient accumulator."
   ]
  },
  {
   "cell_type": "code",
   "execution_count": 6,
   "metadata": {},
   "outputs": [],
   "source": [
    "use_cuda = False\n",
    "device = torch.device(\"cuda\" if use_cuda else \"cpu\")\n",
    "model = Net().to(device)\n",
    "optimizer = SGD(model.parameters(), lr=0.05, momentum=0.9, weight_decay=1e-4)\n",
    "mxepochs = 10"
   ]
  },
  {
   "cell_type": "markdown",
   "metadata": {},
   "source": [
    "We can reuse common training scripts without any extra codes to handle quantization."
   ]
  },
  {
   "cell_type": "code",
   "execution_count": 7,
   "metadata": {},
   "outputs": [],
   "source": [
    "def run_epoch(loader, model, criterion, optimizer=None, phase=\"train\"):\n",
    "    assert phase in [\"train\", \"eval\"], \"invalid running phase\"\n",
    "    loss_sum = 0.0\n",
    "    correct = 0.0\n",
    "\n",
    "    if phase==\"train\": model.train()\n",
    "    elif phase==\"eval\": model.eval()\n",
    "\n",
    "    ttl = 0\n",
    "    with torch.autograd.set_grad_enabled(phase==\"train\"):\n",
    "        for i, (input, target) in tqdm(enumerate(loader), total=len(loader)):\n",
    "            input = input.to(device=device)\n",
    "            target = target.to(device=device)\n",
    "            output = model(input)\n",
    "            loss = criterion(output, target)\n",
    "            loss_sum += loss.cpu().item() * input.size(0)\n",
    "            pred = output.data.max(1, keepdim=True)[1]\n",
    "            correct += pred.eq(target.data.view_as(pred)).sum()\n",
    "            ttl += input.size()[0]\n",
    "\n",
    "            if phase==\"train\":\n",
    "                optimizer.zero_grad()\n",
    "                loss.backward()\n",
    "                optimizer.step()\n",
    "\n",
    "    correct = correct.cpu().item()\n",
    "    return {\n",
    "        'loss': loss_sum / float(ttl),\n",
    "        'accuracy': correct / float(ttl) * 100.0,\n",
    "    }"
   ]
  },
  {
   "cell_type": "markdown",
   "metadata": {},
   "source": [
    "Run the training in floating point."
   ]
  },
  {
   "cell_type": "code",
   "execution_count": 8,
   "metadata": {},
   "outputs": [
    {
     "name": "stderr",
     "output_type": "stream",
     "text": [
      "100%|██████████| 938/938 [00:34<00:00, 27.30it/s]\n",
      "100%|██████████| 157/157 [00:01<00:00, 80.69it/s]\n"
     ]
    },
    {
     "name": "stdout",
     "output_type": "stream",
     "text": [
      "epoch 0\n",
      "{'loss': 0.1308977189583083, 'accuracy': 95.93}\n",
      "{'loss': 0.042565385287348184, 'accuracy': 98.55000000000001}\n"
     ]
    },
    {
     "name": "stderr",
     "output_type": "stream",
     "text": [
      "100%|██████████| 938/938 [00:33<00:00, 28.31it/s]\n",
      "100%|██████████| 157/157 [00:01<00:00, 80.58it/s]"
     ]
    },
    {
     "name": "stdout",
     "output_type": "stream",
     "text": [
      "epoch 1\n",
      "{'loss': 0.04677531966028425, 'accuracy': 98.535}\n",
      "{'loss': 0.03154972235925961, 'accuracy': 99.05000000000001}\n"
     ]
    },
    {
     "name": "stderr",
     "output_type": "stream",
     "text": [
      "\n",
      "100%|██████████| 938/938 [00:32<00:00, 28.46it/s]\n",
      "100%|██████████| 157/157 [00:01<00:00, 79.94it/s]"
     ]
    },
    {
     "name": "stdout",
     "output_type": "stream",
     "text": [
      "epoch 2\n",
      "{'loss': 0.03022077413726365, 'accuracy': 99.06666666666666}\n",
      "{'loss': 0.03574472720858175, 'accuracy': 98.78}\n"
     ]
    },
    {
     "name": "stderr",
     "output_type": "stream",
     "text": [
      "\n",
      "100%|██████████| 938/938 [00:33<00:00, 28.14it/s]\n",
      "100%|██████████| 157/157 [00:01<00:00, 86.33it/s]"
     ]
    },
    {
     "name": "stdout",
     "output_type": "stream",
     "text": [
      "epoch 3\n",
      "{'loss': 0.02480003566315475, 'accuracy': 99.25500000000001}\n",
      "{'loss': 0.028121386936711498, 'accuracy': 99.22}\n"
     ]
    },
    {
     "name": "stderr",
     "output_type": "stream",
     "text": [
      "\n",
      "100%|██████████| 938/938 [00:32<00:00, 28.50it/s]\n",
      "100%|██████████| 157/157 [00:01<00:00, 85.65it/s]"
     ]
    },
    {
     "name": "stdout",
     "output_type": "stream",
     "text": [
      "epoch 4\n",
      "{'loss': 0.018793671909853583, 'accuracy': 99.39666666666666}\n",
      "{'loss': 0.03160598775590879, 'accuracy': 99.08}\n"
     ]
    },
    {
     "name": "stderr",
     "output_type": "stream",
     "text": [
      "\n",
      "100%|██████████| 938/938 [00:32<00:00, 28.76it/s]\n",
      "100%|██████████| 157/157 [00:01<00:00, 85.04it/s]"
     ]
    },
    {
     "name": "stdout",
     "output_type": "stream",
     "text": [
      "epoch 5\n",
      "{'loss': 0.01532717491145595, 'accuracy': 99.52}\n",
      "{'loss': 0.03527631715072057, 'accuracy': 99.00999999999999}\n"
     ]
    },
    {
     "name": "stderr",
     "output_type": "stream",
     "text": [
      "\n",
      "100%|██████████| 938/938 [00:33<00:00, 28.28it/s]\n",
      "100%|██████████| 157/157 [00:01<00:00, 84.03it/s]"
     ]
    },
    {
     "name": "stdout",
     "output_type": "stream",
     "text": [
      "epoch 6\n",
      "{'loss': 0.013341881047098044, 'accuracy': 99.53166666666667}\n",
      "{'loss': 0.02981691688554347, 'accuracy': 99.2}\n"
     ]
    },
    {
     "name": "stderr",
     "output_type": "stream",
     "text": [
      "\n",
      "100%|██████████| 938/938 [00:32<00:00, 29.09it/s]\n",
      "100%|██████████| 157/157 [00:01<00:00, 83.11it/s]"
     ]
    },
    {
     "name": "stdout",
     "output_type": "stream",
     "text": [
      "epoch 7\n",
      "{'loss': 0.011727292320467434, 'accuracy': 99.62166666666667}\n",
      "{'loss': 0.031908917427789674, 'accuracy': 99.14}\n"
     ]
    },
    {
     "name": "stderr",
     "output_type": "stream",
     "text": [
      "\n",
      "100%|██████████| 938/938 [00:32<00:00, 28.69it/s]\n",
      "100%|██████████| 157/157 [00:01<00:00, 82.74it/s]"
     ]
    },
    {
     "name": "stdout",
     "output_type": "stream",
     "text": [
      "epoch 8\n",
      "{'loss': 0.011318152816041403, 'accuracy': 99.625}\n",
      "{'loss': 0.025136449154952424, 'accuracy': 99.26}\n"
     ]
    },
    {
     "name": "stderr",
     "output_type": "stream",
     "text": [
      "\n",
      "100%|██████████| 938/938 [00:32<00:00, 28.46it/s]\n",
      "100%|██████████| 157/157 [00:02<00:00, 76.22it/s]"
     ]
    },
    {
     "name": "stdout",
     "output_type": "stream",
     "text": [
      "epoch 9\n",
      "{'loss': 0.005531758832290992, 'accuracy': 99.815}\n",
      "{'loss': 0.02678031347261376, 'accuracy': 99.18}\n"
     ]
    },
    {
     "name": "stderr",
     "output_type": "stream",
     "text": [
      "\n"
     ]
    }
   ],
   "source": [
    "for epoch in range(mxepochs):\n",
    "    fp_train_res = run_epoch(loaders['train'], model, F.cross_entropy,\n",
    "                            optimizer=optimizer, phase=\"train\")\n",
    "    fp_test_res = run_epoch(loaders['test'], model, F.cross_entropy,\n",
    "                            optimizer=optimizer, phase=\"eval\")\n",
    "    print('epoch', epoch)\n",
    "    print(fp_train_res)\n",
    "    print(fp_test_res)"
   ]
  },
  {
   "cell_type": "markdown",
   "metadata": {},
   "source": [
    "## 2. Block Floating Point Inference"
   ]
  },
  {
   "cell_type": "markdown",
   "metadata": {},
   "source": [
    "Now do it with quantized arithmetic. We first define the data types"
   ]
  },
  {
   "cell_type": "code",
   "execution_count": 9,
   "metadata": {},
   "outputs": [],
   "source": [
    "# define two floating point formats\n",
    "lowp = BlockFloatingPoint(wl=8, dim=-1)   \n",
    "highp = FloatingPoint(exp=8, man=7)      # this is bfloat16\n",
    "\n",
    "# define quantization functions\n",
    "weight_quant = Quantizer(forward_number=lowp, backward_number=None,\n",
    "                        forward_rounding=\"nearest\", backward_rounding=\"nearest\")\n",
    "grad_quant = Quantizer(forward_number=lowp, backward_number=None,\n",
    "                        forward_rounding=\"nearest\", backward_rounding=\"stochastic\")\n",
    "momentum_quant = Quantizer(forward_number=highp, backward_number=None,\n",
    "                        forward_rounding=\"nearest\", backward_rounding=\"stochastic\")\n",
    "acc_quant = Quantizer(forward_number=highp, backward_number=None,\n",
    "                        forward_rounding=\"nearest\", backward_rounding=\"nearest\")\n",
    "\n",
    "# define a lambda function so that the Quantizer module can be duplicated easily\n",
    "act_error_quant = lambda : Quantizer(forward_number=lowp, backward_number=lowp,\n",
    "                        forward_rounding=\"nearest\", backward_rounding=\"nearest\")"
   ]
  },
  {
   "cell_type": "markdown",
   "metadata": {},
   "source": [
    "Now we define the network. In the definition, we insert quantization module after every convolution layer. Note that the quantization of weight, gradient, momentum, and gradient accumulator are not handled here."
   ]
  },
  {
   "cell_type": "code",
   "execution_count": 10,
   "metadata": {},
   "outputs": [],
   "source": [
    "# let's define the model we are using\n",
    "class lp_Net(nn.Module):\n",
    "    def __init__(self, quant=None):\n",
    "        super(lp_Net, self).__init__()\n",
    "        self.conv1 = nn.Conv2d(1, 20, 5, 1)\n",
    "        self.conv2 = nn.Conv2d(20, 50, 5, 1)\n",
    "        self.fc1 = nn.Linear(4*4*50, 500)\n",
    "        self.fc2 = nn.Linear(500, 10)\n",
    "        self.quant = quant()\n",
    "\n",
    "    def forward(self, x):\n",
    "        x = F.relu(self.conv1(x))\n",
    "        x = self.quant(x)\n",
    "        x = F.max_pool2d(x, 2, 2)\n",
    "        x = self.quant(x)\n",
    "        x = F.relu(self.conv2(x))\n",
    "        x = self.quant(x)\n",
    "        x = F.max_pool2d(x, 2, 2)\n",
    "        x = self.quant(x)\n",
    "        x = x.view(-1, 4*4*50)\n",
    "        x = F.relu(self.fc1(x))\n",
    "        x = self.quant(x)\n",
    "        x = self.fc2(x)\n",
    "        x = self.quant(x)\n",
    "        return F.log_softmax(x, dim=1)"
   ]
  },
  {
   "cell_type": "code",
   "execution_count": 11,
   "metadata": {},
   "outputs": [
    {
     "name": "stderr",
     "output_type": "stream",
     "text": [
      "100%|██████████| 938/938 [02:05<00:00,  7.46it/s]\n",
      "100%|██████████| 157/157 [24:56<00:00,  9.53s/it]  "
     ]
    },
    {
     "name": "stdout",
     "output_type": "stream",
     "text": [
      "epoch 0\n",
      "{'loss': 0.16407857935912906, 'accuracy': 95.12}\n",
      "{'loss': 0.05217512269823346, 'accuracy': 98.47}\n"
     ]
    },
    {
     "name": "stderr",
     "output_type": "stream",
     "text": [
      "\n",
      "100%|██████████| 938/938 [02:06<00:00,  7.40it/s]\n",
      "100%|██████████| 157/157 [00:05<00:00, 28.70it/s]"
     ]
    },
    {
     "name": "stdout",
     "output_type": "stream",
     "text": [
      "epoch 1\n",
      "{'loss': 0.05315214948949094, 'accuracy': 98.43666666666667}\n",
      "{'loss': 0.05982327702050097, 'accuracy': 98.09}\n"
     ]
    },
    {
     "name": "stderr",
     "output_type": "stream",
     "text": [
      "\n",
      "100%|██████████| 938/938 [9:10:48<00:00,  6.30it/s]      \n",
      "100%|██████████| 157/157 [1:03:58<00:00, 24.45s/it]   "
     ]
    },
    {
     "name": "stdout",
     "output_type": "stream",
     "text": [
      "epoch 2\n",
      "{'loss': 0.03567801484420585, 'accuracy': 98.96333333333334}\n",
      "{'loss': 0.039939903816120934, 'accuracy': 98.77}\n"
     ]
    },
    {
     "name": "stderr",
     "output_type": "stream",
     "text": [
      "\n",
      "100%|██████████| 938/938 [02:14<00:00,  6.96it/s]\n",
      "100%|██████████| 157/157 [00:05<00:00, 26.17it/s]"
     ]
    },
    {
     "name": "stdout",
     "output_type": "stream",
     "text": [
      "epoch 3\n",
      "{'loss': 0.03066425574516567, 'accuracy': 99.05833333333334}\n",
      "{'loss': 0.03789150432195165, 'accuracy': 98.91}\n"
     ]
    },
    {
     "name": "stderr",
     "output_type": "stream",
     "text": [
      "\n",
      "100%|██████████| 938/938 [02:10<00:00,  7.21it/s]\n",
      "100%|██████████| 157/157 [00:05<00:00, 26.99it/s]"
     ]
    },
    {
     "name": "stdout",
     "output_type": "stream",
     "text": [
      "epoch 4\n",
      "{'loss': 0.027128450920886827, 'accuracy': 99.16666666666667}\n",
      "{'loss': 0.028321706962160534, 'accuracy': 99.14}\n"
     ]
    },
    {
     "name": "stderr",
     "output_type": "stream",
     "text": [
      "\n",
      "100%|██████████| 938/938 [02:03<00:00,  7.61it/s]\n",
      "100%|██████████| 157/157 [00:05<00:00, 28.16it/s]"
     ]
    },
    {
     "name": "stdout",
     "output_type": "stream",
     "text": [
      "epoch 5\n",
      "{'loss': 0.02014389256016584, 'accuracy': 99.37}\n",
      "{'loss': 0.03703302975729457, 'accuracy': 98.94}\n"
     ]
    },
    {
     "name": "stderr",
     "output_type": "stream",
     "text": [
      "\n",
      "100%|██████████| 938/938 [02:00<00:00,  7.77it/s]\n",
      "100%|██████████| 157/157 [00:05<00:00, 28.65it/s]"
     ]
    },
    {
     "name": "stdout",
     "output_type": "stream",
     "text": [
      "epoch 6\n",
      "{'loss': 0.016683798395913132, 'accuracy': 99.48166666666667}\n",
      "{'loss': 0.034652585619868476, 'accuracy': 99.07000000000001}\n"
     ]
    },
    {
     "name": "stderr",
     "output_type": "stream",
     "text": [
      "\n",
      "100%|██████████| 938/938 [02:02<00:00,  7.67it/s]\n",
      "100%|██████████| 157/157 [00:05<00:00, 28.11it/s]"
     ]
    },
    {
     "name": "stdout",
     "output_type": "stream",
     "text": [
      "epoch 7\n",
      "{'loss': 0.014210890785272932, 'accuracy': 99.52}\n",
      "{'loss': 0.043973687187483304, 'accuracy': 98.74000000000001}\n"
     ]
    },
    {
     "name": "stderr",
     "output_type": "stream",
     "text": [
      "\n",
      "100%|██████████| 938/938 [02:01<00:00,  7.72it/s]\n",
      "100%|██████████| 157/157 [00:05<00:00, 27.28it/s]"
     ]
    },
    {
     "name": "stdout",
     "output_type": "stream",
     "text": [
      "epoch 8\n",
      "{'loss': 0.011289743180039417, 'accuracy': 99.62}\n",
      "{'loss': 0.04671122122440574, 'accuracy': 98.71}\n"
     ]
    },
    {
     "name": "stderr",
     "output_type": "stream",
     "text": [
      "\n",
      "100%|██████████| 938/938 [02:01<00:00,  7.74it/s]\n",
      "100%|██████████| 157/157 [00:05<00:00, 28.14it/s]"
     ]
    },
    {
     "name": "stdout",
     "output_type": "stream",
     "text": [
      "epoch 9\n",
      "{'loss': 0.013213940876281898, 'accuracy': 99.57333333333334}\n",
      "{'loss': 0.028975760500422984, 'accuracy': 99.14}\n"
     ]
    },
    {
     "name": "stderr",
     "output_type": "stream",
     "text": [
      "\n"
     ]
    }
   ],
   "source": [
    "use_cuda = False\n",
    "device = torch.device(\"cuda\" if use_cuda else \"cpu\")\n",
    "model = lp_Net(act_error_quant).to(device)\n",
    "optimizer = SGD(model.parameters(), lr=0.05, momentum=0.9, weight_decay=1e-4)\n",
    "lp_optimizer = OptimLP(optimizer,\n",
    "                    weight_quant=weight_quant,\n",
    "                    grad_quant=grad_quant,\n",
    "                    momentum_quant=momentum_quant,\n",
    "                    acc_quant=acc_quant\n",
    ")\n",
    "for epoch in range(mxepochs):\n",
    "    train_res = run_epoch(loaders['train'], model, F.cross_entropy,\n",
    "                                optimizer=lp_optimizer, phase=\"train\")\n",
    "    test_res = run_epoch(loaders['test'], model, F.cross_entropy,\n",
    "                                optimizer=lp_optimizer, phase=\"eval\")\n",
    "    print('epoch', epoch)\n",
    "    print(train_res)\n",
    "    print(test_res)"
   ]
  },
  {
   "cell_type": "markdown",
   "metadata": {},
   "source": [
    "## 3. Accuracy vs wordlength"
   ]
  },
  {
   "cell_type": "markdown",
   "metadata": {},
   "source": [
    "First include some libraries"
   ]
  },
  {
   "cell_type": "code",
   "execution_count": 12,
   "metadata": {},
   "outputs": [],
   "source": [
    "import numpy as np\n",
    "%matplotlib inline\n",
    "import matplotlib.pyplot as plt"
   ]
  },
  {
   "cell_type": "markdown",
   "metadata": {},
   "source": [
    "Compute NN accuracy vs wordlength"
   ]
  },
  {
   "cell_type": "code",
   "execution_count": 13,
   "metadata": {},
   "outputs": [
    {
     "name": "stderr",
     "output_type": "stream",
     "text": [
      "100%|██████████| 938/938 [02:02<00:00,  7.68it/s]\n",
      "100%|██████████| 157/157 [00:05<00:00, 28.54it/s]"
     ]
    },
    {
     "name": "stdout",
     "output_type": "stream",
     "text": [
      "wl 1 epoch 0\n",
      "{'loss': 0.13334788675132828, 'accuracy': 95.77833333333334}\n",
      "{'loss': 0.06134780429769307, 'accuracy': 97.89}\n"
     ]
    },
    {
     "name": "stderr",
     "output_type": "stream",
     "text": [
      "\n",
      "100%|██████████| 938/938 [02:00<00:00,  7.76it/s]\n",
      "100%|██████████| 157/157 [00:05<00:00, 28.40it/s]"
     ]
    },
    {
     "name": "stdout",
     "output_type": "stream",
     "text": [
      "wl 1 epoch 1\n",
      "{'loss': 0.04270939496687303, 'accuracy': 98.69333333333333}\n",
      "{'loss': 0.042036952568404375, 'accuracy': 98.63}\n"
     ]
    },
    {
     "name": "stderr",
     "output_type": "stream",
     "text": [
      "\n",
      "100%|██████████| 938/938 [02:01<00:00,  7.74it/s]\n",
      "100%|██████████| 157/157 [00:05<00:00, 28.77it/s]"
     ]
    },
    {
     "name": "stdout",
     "output_type": "stream",
     "text": [
      "wl 1 epoch 2\n",
      "{'loss': 0.028281971835077274, 'accuracy': 99.10666666666667}\n",
      "{'loss': 0.043777026345254856, 'accuracy': 98.6}\n"
     ]
    },
    {
     "name": "stderr",
     "output_type": "stream",
     "text": [
      "\n",
      "100%|██████████| 938/938 [02:00<00:00,  7.78it/s]\n",
      "100%|██████████| 157/157 [00:05<00:00, 28.43it/s]"
     ]
    },
    {
     "name": "stdout",
     "output_type": "stream",
     "text": [
      "wl 1 epoch 3\n",
      "{'loss': 0.021018055758244978, 'accuracy': 99.33166666666666}\n",
      "{'loss': 0.03138738865750493, 'accuracy': 99.06}\n"
     ]
    },
    {
     "name": "stderr",
     "output_type": "stream",
     "text": [
      "\n",
      "100%|██████████| 938/938 [02:00<00:00,  7.75it/s]\n",
      "100%|██████████| 157/157 [00:05<00:00, 27.96it/s]"
     ]
    },
    {
     "name": "stdout",
     "output_type": "stream",
     "text": [
      "wl 1 epoch 4\n",
      "{'loss': 0.0184226861750319, 'accuracy': 99.41499999999999}\n",
      "{'loss': 0.027743495805436395, 'accuracy': 99.14}\n"
     ]
    },
    {
     "name": "stderr",
     "output_type": "stream",
     "text": [
      "\n",
      "100%|██████████| 938/938 [02:06<00:00,  7.41it/s]\n",
      "100%|██████████| 157/157 [00:05<00:00, 26.91it/s]"
     ]
    },
    {
     "name": "stdout",
     "output_type": "stream",
     "text": [
      "wl 1 epoch 5\n",
      "{'loss': 0.013569299505626744, 'accuracy': 99.55666666666667}\n",
      "{'loss': 0.028604169275829917, 'accuracy': 99.17}\n"
     ]
    },
    {
     "name": "stderr",
     "output_type": "stream",
     "text": [
      "\n",
      "100%|██████████| 938/938 [02:07<00:00,  6.18it/s]\n",
      "100%|██████████| 157/157 [00:08<00:00, 18.55it/s]"
     ]
    },
    {
     "name": "stdout",
     "output_type": "stream",
     "text": [
      "wl 1 epoch 6\n",
      "{'loss': 0.008265201491991562, 'accuracy': 99.76}\n",
      "{'loss': 0.029302618485226414, 'accuracy': 99.25}\n"
     ]
    },
    {
     "name": "stderr",
     "output_type": "stream",
     "text": [
      "\n",
      "100%|██████████| 938/938 [02:08<00:00,  7.29it/s]\n",
      "100%|██████████| 157/157 [00:05<00:00, 28.31it/s]"
     ]
    },
    {
     "name": "stdout",
     "output_type": "stream",
     "text": [
      "wl 1 epoch 7\n",
      "{'loss': 0.008218365344535171, 'accuracy': 99.72999999999999}\n",
      "{'loss': 0.033778072384646654, 'accuracy': 99.11}\n"
     ]
    },
    {
     "name": "stderr",
     "output_type": "stream",
     "text": [
      "\n",
      "100%|██████████| 938/938 [02:10<00:00,  7.20it/s]\n",
      "100%|██████████| 157/157 [00:05<00:00, 26.29it/s]"
     ]
    },
    {
     "name": "stdout",
     "output_type": "stream",
     "text": [
      "wl 1 epoch 8\n",
      "{'loss': 0.008889271622902985, 'accuracy': 99.71666666666667}\n",
      "{'loss': 0.02455058194215526, 'accuracy': 99.24}\n"
     ]
    },
    {
     "name": "stderr",
     "output_type": "stream",
     "text": [
      "\n",
      "100%|██████████| 938/938 [02:13<00:00,  7.53it/s]\n",
      "100%|██████████| 157/157 [00:06<00:00, 26.17it/s]"
     ]
    },
    {
     "name": "stdout",
     "output_type": "stream",
     "text": [
      "wl 1 epoch 9\n",
      "{'loss': 0.007080459472027481, 'accuracy': 99.77333333333334}\n",
      "{'loss': 0.029613272997544116, 'accuracy': 99.19}\n"
     ]
    },
    {
     "name": "stderr",
     "output_type": "stream",
     "text": [
      "\n",
      "100%|██████████| 938/938 [02:10<00:00,  7.20it/s]\n",
      "100%|██████████| 157/157 [00:05<00:00, 27.68it/s]"
     ]
    },
    {
     "name": "stdout",
     "output_type": "stream",
     "text": [
      "wl 2 epoch 0\n",
      "{'loss': 0.14125817596179743, 'accuracy': 95.59}\n",
      "{'loss': 0.04629960912337992, 'accuracy': 98.58}\n"
     ]
    },
    {
     "name": "stderr",
     "output_type": "stream",
     "text": [
      "\n",
      "100%|██████████| 938/938 [02:09<00:00,  7.22it/s]\n",
      "100%|██████████| 157/157 [00:05<00:00, 28.03it/s]"
     ]
    },
    {
     "name": "stdout",
     "output_type": "stream",
     "text": [
      "wl 2 epoch 1\n",
      "{'loss': 0.04694550960405419, 'accuracy': 98.59166666666667}\n",
      "{'loss': 0.04844304312095046, 'accuracy': 98.58}\n"
     ]
    },
    {
     "name": "stderr",
     "output_type": "stream",
     "text": [
      "\n",
      "100%|██████████| 938/938 [02:14<00:00,  6.96it/s]\n",
      "100%|██████████| 157/157 [00:05<00:00, 26.67it/s]"
     ]
    },
    {
     "name": "stdout",
     "output_type": "stream",
     "text": [
      "wl 2 epoch 2\n",
      "{'loss': 0.032675127061860015, 'accuracy': 98.95166666666667}\n",
      "{'loss': 0.03632372691557975, 'accuracy': 98.89}\n"
     ]
    },
    {
     "name": "stderr",
     "output_type": "stream",
     "text": [
      "\n",
      "100%|██████████| 938/938 [02:09<00:00,  7.23it/s]\n",
      "100%|██████████| 157/157 [00:06<00:00, 24.89it/s]"
     ]
    },
    {
     "name": "stdout",
     "output_type": "stream",
     "text": [
      "wl 2 epoch 3\n",
      "{'loss': 0.027445970804380097, 'accuracy': 99.13333333333333}\n",
      "{'loss': 0.05027060392289422, 'accuracy': 98.56}\n"
     ]
    },
    {
     "name": "stderr",
     "output_type": "stream",
     "text": [
      "\n",
      "100%|██████████| 938/938 [02:10<00:00,  7.20it/s]\n",
      "100%|██████████| 157/157 [00:05<00:00, 26.39it/s]"
     ]
    },
    {
     "name": "stdout",
     "output_type": "stream",
     "text": [
      "wl 2 epoch 4\n",
      "{'loss': 0.021861558027906965, 'accuracy': 99.28166666666667}\n",
      "{'loss': 0.03428227720579453, 'accuracy': 98.98}\n"
     ]
    },
    {
     "name": "stderr",
     "output_type": "stream",
     "text": [
      "\n",
      "100%|██████████| 938/938 [02:04<00:00,  7.50it/s]\n",
      "100%|██████████| 157/157 [00:05<00:00, 27.07it/s]"
     ]
    },
    {
     "name": "stdout",
     "output_type": "stream",
     "text": [
      "wl 2 epoch 5\n",
      "{'loss': 0.018113554227584972, 'accuracy': 99.46333333333334}\n",
      "{'loss': 0.04621957076354884, 'accuracy': 98.67}\n"
     ]
    },
    {
     "name": "stderr",
     "output_type": "stream",
     "text": [
      "\n",
      "100%|██████████| 938/938 [02:05<00:00,  7.49it/s]\n",
      "100%|██████████| 157/157 [00:05<00:00, 27.12it/s]"
     ]
    },
    {
     "name": "stdout",
     "output_type": "stream",
     "text": [
      "wl 2 epoch 6\n",
      "{'loss': 0.010864415659190853, 'accuracy': 99.66333333333334}\n",
      "{'loss': 0.031045680089848246, 'accuracy': 99.17}\n"
     ]
    },
    {
     "name": "stderr",
     "output_type": "stream",
     "text": [
      "\n",
      "100%|██████████| 938/938 [02:03<00:00,  7.61it/s]\n",
      "100%|██████████| 157/157 [00:05<00:00, 27.62it/s]"
     ]
    },
    {
     "name": "stdout",
     "output_type": "stream",
     "text": [
      "wl 2 epoch 7\n",
      "{'loss': 0.013055562537382746, 'accuracy': 99.58}\n",
      "{'loss': 0.03377062855189215, 'accuracy': 99.13}\n"
     ]
    },
    {
     "name": "stderr",
     "output_type": "stream",
     "text": [
      "\n",
      "100%|██████████| 938/938 [02:01<00:00,  7.70it/s]\n",
      "100%|██████████| 157/157 [00:05<00:00, 28.30it/s]"
     ]
    },
    {
     "name": "stdout",
     "output_type": "stream",
     "text": [
      "wl 2 epoch 8\n",
      "{'loss': 0.008897409653912959, 'accuracy': 99.71166666666666}\n",
      "{'loss': 0.03723939739828238, 'accuracy': 99.15}\n"
     ]
    },
    {
     "name": "stderr",
     "output_type": "stream",
     "text": [
      "\n",
      "100%|██████████| 938/938 [02:01<00:00,  7.73it/s]\n",
      "100%|██████████| 157/157 [00:05<00:00, 28.19it/s]"
     ]
    },
    {
     "name": "stdout",
     "output_type": "stream",
     "text": [
      "wl 2 epoch 9\n",
      "{'loss': 0.007316067092315158, 'accuracy': 99.78}\n",
      "{'loss': 0.039603882824043285, 'accuracy': 99.15}\n"
     ]
    },
    {
     "name": "stderr",
     "output_type": "stream",
     "text": [
      "\n",
      "100%|██████████| 938/938 [02:01<00:00,  7.73it/s]\n",
      "100%|██████████| 157/157 [00:05<00:00, 28.57it/s]"
     ]
    },
    {
     "name": "stdout",
     "output_type": "stream",
     "text": [
      "wl 3 epoch 0\n",
      "{'loss': 0.1586423158235848, 'accuracy': 95.11}\n",
      "{'loss': 0.05809144135154784, 'accuracy': 98.2}\n"
     ]
    },
    {
     "name": "stderr",
     "output_type": "stream",
     "text": [
      "\n",
      "100%|██████████| 938/938 [02:01<00:00,  7.74it/s]\n",
      "100%|██████████| 157/157 [00:05<00:00, 28.26it/s]"
     ]
    },
    {
     "name": "stdout",
     "output_type": "stream",
     "text": [
      "wl 3 epoch 1\n",
      "{'loss': 0.04921351001504809, 'accuracy': 98.46000000000001}\n",
      "{'loss': 0.035853267348650845, 'accuracy': 98.96000000000001}\n"
     ]
    },
    {
     "name": "stderr",
     "output_type": "stream",
     "text": [
      "\n",
      "100%|██████████| 938/938 [02:01<00:00,  7.72it/s]\n",
      "100%|██████████| 157/157 [00:05<00:00, 28.79it/s]"
     ]
    },
    {
     "name": "stdout",
     "output_type": "stream",
     "text": [
      "wl 3 epoch 2\n",
      "{'loss': 0.03542543956787946, 'accuracy': 98.91666666666666}\n",
      "{'loss': 0.03731694094113191, 'accuracy': 98.81}\n"
     ]
    },
    {
     "name": "stderr",
     "output_type": "stream",
     "text": [
      "\n",
      "100%|██████████| 938/938 [02:00<00:00,  7.77it/s]\n",
      "100%|██████████| 157/157 [00:05<00:00, 28.73it/s]"
     ]
    },
    {
     "name": "stdout",
     "output_type": "stream",
     "text": [
      "wl 3 epoch 3\n",
      "{'loss': 0.02767616901899067, 'accuracy': 99.125}\n",
      "{'loss': 0.042414341275478364, 'accuracy': 98.77}\n"
     ]
    },
    {
     "name": "stderr",
     "output_type": "stream",
     "text": [
      "\n",
      "100%|██████████| 938/938 [02:01<00:00,  7.74it/s]\n",
      "100%|██████████| 157/157 [00:05<00:00, 28.57it/s]"
     ]
    },
    {
     "name": "stdout",
     "output_type": "stream",
     "text": [
      "wl 3 epoch 4\n",
      "{'loss': 0.024438041069191726, 'accuracy': 99.24166666666666}\n",
      "{'loss': 0.03484952844238433, 'accuracy': 98.86}\n"
     ]
    },
    {
     "name": "stderr",
     "output_type": "stream",
     "text": [
      "\n",
      "100%|██████████| 938/938 [02:01<00:00,  7.75it/s]\n",
      "100%|██████████| 157/157 [00:05<00:00, 28.55it/s]"
     ]
    },
    {
     "name": "stdout",
     "output_type": "stream",
     "text": [
      "wl 3 epoch 5\n",
      "{'loss': 0.018900436472966492, 'accuracy': 99.39166666666667}\n",
      "{'loss': 0.030179040141118458, 'accuracy': 99.1}\n"
     ]
    },
    {
     "name": "stderr",
     "output_type": "stream",
     "text": [
      "\n",
      "100%|██████████| 938/938 [02:01<00:00,  7.74it/s]\n",
      "100%|██████████| 157/157 [00:05<00:00, 28.71it/s]"
     ]
    },
    {
     "name": "stdout",
     "output_type": "stream",
     "text": [
      "wl 3 epoch 6\n",
      "{'loss': 0.014941542964937495, 'accuracy': 99.50666666666666}\n",
      "{'loss': 0.034545161798192565, 'accuracy': 99.00999999999999}\n"
     ]
    },
    {
     "name": "stderr",
     "output_type": "stream",
     "text": [
      "\n",
      "100%|██████████| 938/938 [02:01<00:00,  7.74it/s]\n",
      "100%|██████████| 157/157 [00:05<00:00, 28.55it/s]"
     ]
    },
    {
     "name": "stdout",
     "output_type": "stream",
     "text": [
      "wl 3 epoch 7\n",
      "{'loss': 0.017794470219430515, 'accuracy': 99.40833333333333}\n",
      "{'loss': 0.040656762142108345, 'accuracy': 98.88}\n"
     ]
    },
    {
     "name": "stderr",
     "output_type": "stream",
     "text": [
      "\n",
      "100%|██████████| 938/938 [02:01<00:00,  7.73it/s]\n",
      "100%|██████████| 157/157 [00:05<00:00, 28.27it/s]"
     ]
    },
    {
     "name": "stdout",
     "output_type": "stream",
     "text": [
      "wl 3 epoch 8\n",
      "{'loss': 0.01284305412697431, 'accuracy': 99.56166666666667}\n",
      "{'loss': 0.03908895369017373, 'accuracy': 99.1}\n"
     ]
    },
    {
     "name": "stderr",
     "output_type": "stream",
     "text": [
      "\n",
      "100%|██████████| 938/938 [02:00<00:00,  7.76it/s]\n",
      "100%|██████████| 157/157 [00:05<00:00, 28.57it/s]"
     ]
    },
    {
     "name": "stdout",
     "output_type": "stream",
     "text": [
      "wl 3 epoch 9\n",
      "{'loss': 0.012540095031324503, 'accuracy': 99.60166666666666}\n",
      "{'loss': 0.038986298161177546, 'accuracy': 98.98}\n"
     ]
    },
    {
     "name": "stderr",
     "output_type": "stream",
     "text": [
      "\n",
      "100%|██████████| 938/938 [02:01<00:00,  7.72it/s]\n",
      "100%|██████████| 157/157 [00:05<00:00, 28.71it/s]"
     ]
    },
    {
     "name": "stdout",
     "output_type": "stream",
     "text": [
      "wl 4 epoch 0\n",
      "{'loss': 0.14067210337768, 'accuracy': 95.61}\n",
      "{'loss': 0.05184451726414263, 'accuracy': 98.49}\n"
     ]
    },
    {
     "name": "stderr",
     "output_type": "stream",
     "text": [
      "\n",
      "100%|██████████| 938/938 [02:18<00:00,  6.75it/s]\n",
      "100%|██████████| 157/157 [00:08<00:00, 23.52it/s]"
     ]
    },
    {
     "name": "stdout",
     "output_type": "stream",
     "text": [
      "wl 4 epoch 1\n",
      "{'loss': 0.047925641147978607, 'accuracy': 98.53666666666666}\n",
      "{'loss': 0.035944996472168714, 'accuracy': 98.9}\n"
     ]
    },
    {
     "name": "stderr",
     "output_type": "stream",
     "text": [
      "\n",
      "100%|██████████| 938/938 [02:27<00:00,  5.72it/s]\n",
      "100%|██████████| 157/157 [00:06<00:00, 22.93it/s]"
     ]
    },
    {
     "name": "stdout",
     "output_type": "stream",
     "text": [
      "wl 4 epoch 2\n",
      "{'loss': 0.03352164667006582, 'accuracy': 98.92166666666667}\n",
      "{'loss': 0.033502753777161706, 'accuracy': 99.00999999999999}\n"
     ]
    },
    {
     "name": "stderr",
     "output_type": "stream",
     "text": [
      "\n",
      "100%|██████████| 938/938 [02:18<00:00,  6.75it/s]\n",
      "100%|██████████| 157/157 [00:08<00:00, 18.39it/s]"
     ]
    },
    {
     "name": "stdout",
     "output_type": "stream",
     "text": [
      "wl 4 epoch 3\n",
      "{'loss': 0.026255223176030754, 'accuracy': 99.17833333333334}\n",
      "{'loss': 0.051087847707315816, 'accuracy': 98.57000000000001}\n"
     ]
    },
    {
     "name": "stderr",
     "output_type": "stream",
     "text": [
      "\n",
      "100%|██████████| 938/938 [02:33<00:00,  6.10it/s]\n",
      "100%|██████████| 157/157 [00:06<00:00, 25.93it/s]\n"
     ]
    },
    {
     "name": "stdout",
     "output_type": "stream",
     "text": [
      "wl 4 epoch 4\n",
      "{'loss': 0.018667078641503274, 'accuracy': 99.41666666666666}\n",
      "{'loss': 0.03606344955860295, 'accuracy': 98.99}\n"
     ]
    },
    {
     "name": "stderr",
     "output_type": "stream",
     "text": [
      "100%|██████████| 938/938 [02:33<00:00,  4.55it/s]\n",
      "100%|██████████| 157/157 [00:07<00:00, 20.50it/s]"
     ]
    },
    {
     "name": "stdout",
     "output_type": "stream",
     "text": [
      "wl 4 epoch 5\n",
      "{'loss': 0.016645710116789753, 'accuracy': 99.47500000000001}\n",
      "{'loss': 0.028157114558067405, 'accuracy': 99.15}\n"
     ]
    },
    {
     "name": "stderr",
     "output_type": "stream",
     "text": [
      "\n",
      "100%|██████████| 938/938 [02:25<00:00,  6.43it/s]\n",
      "100%|██████████| 157/157 [00:06<00:00, 25.95it/s]"
     ]
    },
    {
     "name": "stdout",
     "output_type": "stream",
     "text": [
      "wl 4 epoch 6\n",
      "{'loss': 0.012441294835284741, 'accuracy': 99.60166666666666}\n",
      "{'loss': 0.036929081193136516, 'accuracy': 98.83999999999999}\n"
     ]
    },
    {
     "name": "stderr",
     "output_type": "stream",
     "text": [
      "\n",
      "100%|██████████| 938/938 [02:18<00:00,  6.77it/s]\n",
      "100%|██████████| 157/157 [00:06<00:00, 25.48it/s]"
     ]
    },
    {
     "name": "stdout",
     "output_type": "stream",
     "text": [
      "wl 4 epoch 7\n",
      "{'loss': 0.012645302525857308, 'accuracy': 99.57666666666667}\n",
      "{'loss': 0.04267753041984979, 'accuracy': 98.74000000000001}\n"
     ]
    },
    {
     "name": "stderr",
     "output_type": "stream",
     "text": [
      "\n",
      "100%|██████████| 938/938 [02:16<00:00,  6.77it/s]\n",
      "100%|██████████| 157/157 [00:06<00:00, 25.34it/s]"
     ]
    },
    {
     "name": "stdout",
     "output_type": "stream",
     "text": [
      "wl 4 epoch 8\n",
      "{'loss': 0.01245714488464461, 'accuracy': 99.58666666666667}\n",
      "{'loss': 0.05755150782589335, 'accuracy': 98.49}\n"
     ]
    },
    {
     "name": "stderr",
     "output_type": "stream",
     "text": [
      "\n",
      "100%|██████████| 938/938 [02:32<00:00,  6.74it/s]\n",
      "100%|██████████| 157/157 [00:07<00:00, 20.59it/s]"
     ]
    },
    {
     "name": "stdout",
     "output_type": "stream",
     "text": [
      "wl 4 epoch 9\n",
      "{'loss': 0.008580156871892784, 'accuracy': 99.71166666666666}\n",
      "{'loss': 0.03427263297129357, 'accuracy': 99.14}\n"
     ]
    },
    {
     "name": "stderr",
     "output_type": "stream",
     "text": [
      "\n",
      "100%|██████████| 938/938 [02:49<00:00,  6.05it/s]\n",
      "100%|██████████| 157/157 [00:07<00:00, 20.33it/s]"
     ]
    },
    {
     "name": "stdout",
     "output_type": "stream",
     "text": [
      "wl 5 epoch 0\n",
      "{'loss': 0.13692946860616406, 'accuracy': 95.84833333333333}\n",
      "{'loss': 0.04911356556173414, 'accuracy': 98.41}\n"
     ]
    },
    {
     "name": "stderr",
     "output_type": "stream",
     "text": [
      "\n",
      "100%|██████████| 938/938 [02:37<00:00,  5.96it/s]\n",
      "100%|██████████| 157/157 [00:06<00:00, 24.99it/s]"
     ]
    },
    {
     "name": "stdout",
     "output_type": "stream",
     "text": [
      "wl 5 epoch 1\n",
      "{'loss': 0.04649929539860847, 'accuracy': 98.62166666666667}\n",
      "{'loss': 0.055192680996889246, 'accuracy': 98.19}\n"
     ]
    },
    {
     "name": "stderr",
     "output_type": "stream",
     "text": [
      "\n",
      "100%|██████████| 938/938 [02:17<00:00,  7.80it/s]\n",
      "100%|██████████| 157/157 [00:06<00:00, 25.34it/s]"
     ]
    },
    {
     "name": "stdout",
     "output_type": "stream",
     "text": [
      "wl 5 epoch 2\n",
      "{'loss': 0.03407022037802575, 'accuracy': 98.98}\n",
      "{'loss': 0.025964134725974874, 'accuracy': 99.2}\n"
     ]
    },
    {
     "name": "stderr",
     "output_type": "stream",
     "text": [
      "\n",
      "100%|██████████| 938/938 [02:16<00:00,  7.20it/s]\n",
      "100%|██████████| 157/157 [00:08<00:00, 19.58it/s]"
     ]
    },
    {
     "name": "stdout",
     "output_type": "stream",
     "text": [
      "wl 5 epoch 3\n",
      "{'loss': 0.02572356544082674, 'accuracy': 99.21166666666666}\n",
      "{'loss': 0.026970767268445342, 'accuracy': 99.16}\n"
     ]
    },
    {
     "name": "stderr",
     "output_type": "stream",
     "text": [
      "\n",
      "100%|██████████| 938/938 [02:39<00:00,  6.38it/s]\n",
      "100%|██████████| 157/157 [00:08<00:00, 22.20it/s]"
     ]
    },
    {
     "name": "stdout",
     "output_type": "stream",
     "text": [
      "wl 5 epoch 4\n",
      "{'loss': 0.0188988769394365, 'accuracy': 99.4}\n",
      "{'loss': 0.033134543616232984, 'accuracy': 99.0}\n"
     ]
    },
    {
     "name": "stderr",
     "output_type": "stream",
     "text": [
      "\n",
      "100%|██████████| 938/938 [02:48<00:00,  6.36it/s]\n",
      "100%|██████████| 157/157 [00:08<00:00, 17.94it/s]"
     ]
    },
    {
     "name": "stdout",
     "output_type": "stream",
     "text": [
      "wl 5 epoch 5\n",
      "{'loss': 0.0165760574500222, 'accuracy': 99.47}\n",
      "{'loss': 0.039458676016046954, 'accuracy': 98.99}\n"
     ]
    },
    {
     "name": "stderr",
     "output_type": "stream",
     "text": [
      "\n",
      "100%|██████████| 938/938 [02:54<00:00,  6.92it/s]\n",
      "100%|██████████| 157/157 [00:07<00:00, 16.90it/s]"
     ]
    },
    {
     "name": "stdout",
     "output_type": "stream",
     "text": [
      "wl 5 epoch 6\n",
      "{'loss': 0.016023143578560363, 'accuracy': 99.47333333333333}\n",
      "{'loss': 0.034048125067257205, 'accuracy': 99.03}\n"
     ]
    },
    {
     "name": "stderr",
     "output_type": "stream",
     "text": [
      "\n",
      "100%|██████████| 938/938 [02:43<00:00,  5.16it/s]\n",
      "100%|██████████| 157/157 [00:09<00:00, 16.81it/s]\n"
     ]
    },
    {
     "name": "stdout",
     "output_type": "stream",
     "text": [
      "wl 5 epoch 7\n",
      "{'loss': 0.010060064692112307, 'accuracy': 99.675}\n",
      "{'loss': 0.029772298157237673, 'accuracy': 99.14}\n"
     ]
    },
    {
     "name": "stderr",
     "output_type": "stream",
     "text": [
      "100%|██████████| 938/938 [03:13<00:00,  7.01it/s]\n",
      "100%|██████████| 157/157 [00:07<00:00, 21.73it/s]"
     ]
    },
    {
     "name": "stdout",
     "output_type": "stream",
     "text": [
      "wl 5 epoch 8\n",
      "{'loss': 0.008007502249561366, 'accuracy': 99.76666666666667}\n",
      "{'loss': 0.0259330852922335, 'accuracy': 99.32}\n"
     ]
    },
    {
     "name": "stderr",
     "output_type": "stream",
     "text": [
      "\n",
      "100%|██████████| 938/938 [03:02<00:00,  5.45it/s]\n",
      "100%|██████████| 157/157 [00:08<00:00, 20.92it/s]"
     ]
    },
    {
     "name": "stdout",
     "output_type": "stream",
     "text": [
      "wl 5 epoch 9\n",
      "{'loss': 0.00452315127668747, 'accuracy': 99.85666666666667}\n",
      "{'loss': 0.02996837188579666, 'accuracy': 99.22999999999999}\n"
     ]
    },
    {
     "name": "stderr",
     "output_type": "stream",
     "text": [
      "\n",
      "100%|██████████| 938/938 [02:56<00:00,  6.90it/s]\n",
      "100%|██████████| 157/157 [00:07<00:00, 20.94it/s]"
     ]
    },
    {
     "name": "stdout",
     "output_type": "stream",
     "text": [
      "wl 6 epoch 0\n",
      "{'loss': 0.140084162664786, 'accuracy': 95.61500000000001}\n",
      "{'loss': 0.049783518301695584, 'accuracy': 98.48}\n"
     ]
    },
    {
     "name": "stderr",
     "output_type": "stream",
     "text": [
      "\n",
      "100%|██████████| 938/938 [02:51<00:00,  5.75it/s]\n",
      "100%|██████████| 157/157 [00:08<00:00, 17.69it/s]"
     ]
    },
    {
     "name": "stdout",
     "output_type": "stream",
     "text": [
      "wl 6 epoch 1\n",
      "{'loss': 0.04511650286810472, 'accuracy': 98.63499999999999}\n",
      "{'loss': 0.03804576912997291, 'accuracy': 98.8}\n"
     ]
    },
    {
     "name": "stderr",
     "output_type": "stream",
     "text": [
      "\n",
      "100%|██████████| 938/938 [02:48<00:00,  6.37it/s]\n",
      "100%|██████████| 157/157 [00:12<00:00, 21.52it/s]"
     ]
    },
    {
     "name": "stdout",
     "output_type": "stream",
     "text": [
      "wl 6 epoch 2\n",
      "{'loss': 0.031474360306328164, 'accuracy': 98.985}\n",
      "{'loss': 0.03210547258688603, 'accuracy': 98.83999999999999}\n"
     ]
    },
    {
     "name": "stderr",
     "output_type": "stream",
     "text": [
      "\n",
      "100%|██████████| 938/938 [02:40<00:00,  5.84it/s]\n",
      "100%|██████████| 157/157 [00:05<00:00, 27.30it/s]"
     ]
    },
    {
     "name": "stdout",
     "output_type": "stream",
     "text": [
      "wl 6 epoch 3\n",
      "{'loss': 0.023155945909023284, 'accuracy': 99.24833333333333}\n",
      "{'loss': 0.025625286316376877, 'accuracy': 99.09}\n"
     ]
    },
    {
     "name": "stderr",
     "output_type": "stream",
     "text": [
      "\n",
      "100%|██████████| 938/938 [02:07<00:00,  7.34it/s]\n",
      "100%|██████████| 157/157 [00:06<00:00, 25.62it/s]"
     ]
    },
    {
     "name": "stdout",
     "output_type": "stream",
     "text": [
      "wl 6 epoch 4\n",
      "{'loss': 0.01845665602976272, 'accuracy': 99.42999999999999}\n",
      "{'loss': 0.03147694312806707, 'accuracy': 99.08}\n"
     ]
    },
    {
     "name": "stderr",
     "output_type": "stream",
     "text": [
      "\n",
      "100%|██████████| 938/938 [02:10<00:00,  7.20it/s]\n",
      "100%|██████████| 157/157 [00:05<00:00, 26.22it/s]"
     ]
    },
    {
     "name": "stdout",
     "output_type": "stream",
     "text": [
      "wl 6 epoch 5\n",
      "{'loss': 0.01735430931178077, 'accuracy': 99.465}\n",
      "{'loss': 0.040964957542082264, 'accuracy': 98.82}\n"
     ]
    },
    {
     "name": "stderr",
     "output_type": "stream",
     "text": [
      "\n",
      "100%|██████████| 938/938 [02:08<00:00,  7.31it/s]\n",
      "100%|██████████| 157/157 [00:05<00:00, 28.17it/s]"
     ]
    },
    {
     "name": "stdout",
     "output_type": "stream",
     "text": [
      "wl 6 epoch 6\n",
      "{'loss': 0.012643247238591235, 'accuracy': 99.595}\n",
      "{'loss': 0.03161852684027908, 'accuracy': 99.11999999999999}\n"
     ]
    },
    {
     "name": "stderr",
     "output_type": "stream",
     "text": [
      "\n",
      "100%|██████████| 938/938 [02:07<00:00,  7.35it/s]\n",
      "100%|██████████| 157/157 [00:05<00:00, 26.82it/s]"
     ]
    },
    {
     "name": "stdout",
     "output_type": "stream",
     "text": [
      "wl 6 epoch 7\n",
      "{'loss': 0.012728389303432777, 'accuracy': 99.595}\n",
      "{'loss': 0.04111392110334127, 'accuracy': 98.92}\n"
     ]
    },
    {
     "name": "stderr",
     "output_type": "stream",
     "text": [
      "\n",
      "100%|██████████| 938/938 [02:14<00:00,  6.99it/s]\n",
      "100%|██████████| 157/157 [00:05<00:00, 27.10it/s]"
     ]
    },
    {
     "name": "stdout",
     "output_type": "stream",
     "text": [
      "wl 6 epoch 8\n",
      "{'loss': 0.007993846067198319, 'accuracy': 99.74333333333333}\n",
      "{'loss': 0.03481848359317737, 'accuracy': 99.07000000000001}\n"
     ]
    },
    {
     "name": "stderr",
     "output_type": "stream",
     "text": [
      "\n",
      "100%|██████████| 938/938 [02:15<00:00,  6.87it/s]\n",
      "100%|██████████| 157/157 [00:05<00:00, 27.62it/s]"
     ]
    },
    {
     "name": "stdout",
     "output_type": "stream",
     "text": [
      "wl 6 epoch 9\n",
      "{'loss': 0.00865635766047053, 'accuracy': 99.72166666666666}\n",
      "{'loss': 0.032608998753671764, 'accuracy': 99.14}\n"
     ]
    },
    {
     "name": "stderr",
     "output_type": "stream",
     "text": [
      "\n",
      "100%|██████████| 938/938 [02:08<00:00,  7.33it/s]\n",
      "100%|██████████| 157/157 [00:05<00:00, 27.23it/s]"
     ]
    },
    {
     "name": "stdout",
     "output_type": "stream",
     "text": [
      "wl 7 epoch 0\n",
      "{'loss': 0.14038287084276477, 'accuracy': 95.845}\n",
      "{'loss': 0.0476554027331993, 'accuracy': 98.48}\n"
     ]
    },
    {
     "name": "stderr",
     "output_type": "stream",
     "text": [
      "\n",
      "100%|██████████| 938/938 [02:04<00:00,  7.53it/s]\n",
      "100%|██████████| 157/157 [00:05<00:00, 27.10it/s]"
     ]
    },
    {
     "name": "stdout",
     "output_type": "stream",
     "text": [
      "wl 7 epoch 1\n",
      "{'loss': 0.04686199032086879, 'accuracy': 98.58}\n",
      "{'loss': 0.037945623149210586, 'accuracy': 98.75}\n"
     ]
    },
    {
     "name": "stderr",
     "output_type": "stream",
     "text": [
      "\n",
      "100%|██████████| 938/938 [02:04<00:00,  7.53it/s]\n",
      "100%|██████████| 157/157 [00:05<00:00, 27.32it/s]"
     ]
    },
    {
     "name": "stdout",
     "output_type": "stream",
     "text": [
      "wl 7 epoch 2\n",
      "{'loss': 0.03477284622386408, 'accuracy': 98.92666666666666}\n",
      "{'loss': 0.03334562478275038, 'accuracy': 98.86}\n"
     ]
    },
    {
     "name": "stderr",
     "output_type": "stream",
     "text": [
      "\n",
      "100%|██████████| 938/938 [02:03<00:00,  7.57it/s]\n",
      "100%|██████████| 157/157 [00:05<00:00, 27.26it/s]"
     ]
    },
    {
     "name": "stdout",
     "output_type": "stream",
     "text": [
      "wl 7 epoch 3\n",
      "{'loss': 0.02628706860599729, 'accuracy': 99.185}\n",
      "{'loss': 0.030022589876363054, 'accuracy': 99.03999999999999}\n"
     ]
    },
    {
     "name": "stderr",
     "output_type": "stream",
     "text": [
      "\n",
      "100%|██████████| 938/938 [02:05<00:00,  7.47it/s]\n",
      "100%|██████████| 157/157 [00:05<00:00, 27.57it/s]"
     ]
    },
    {
     "name": "stdout",
     "output_type": "stream",
     "text": [
      "wl 7 epoch 4\n",
      "{'loss': 0.02179201462555987, 'accuracy': 99.30499999999999}\n",
      "{'loss': 0.036094216239298836, 'accuracy': 98.94}\n"
     ]
    },
    {
     "name": "stderr",
     "output_type": "stream",
     "text": [
      "\n",
      "100%|██████████| 938/938 [02:01<00:00,  7.95it/s]\n",
      "100%|██████████| 157/157 [00:05<00:00, 27.35it/s]"
     ]
    },
    {
     "name": "stdout",
     "output_type": "stream",
     "text": [
      "wl 7 epoch 5\n",
      "{'loss': 0.019451672590653956, 'accuracy': 99.39333333333333}\n",
      "{'loss': 0.03135001968141878, 'accuracy': 98.99}\n"
     ]
    },
    {
     "name": "stderr",
     "output_type": "stream",
     "text": [
      "\n",
      "100%|██████████| 938/938 [02:01<00:00,  7.73it/s]\n",
      "100%|██████████| 157/157 [00:05<00:00, 28.39it/s]"
     ]
    },
    {
     "name": "stdout",
     "output_type": "stream",
     "text": [
      "wl 7 epoch 6\n",
      "{'loss': 0.01497350356176224, 'accuracy': 99.49666666666667}\n",
      "{'loss': 0.036801110842474734, 'accuracy': 98.85000000000001}\n"
     ]
    },
    {
     "name": "stderr",
     "output_type": "stream",
     "text": [
      "\n",
      "100%|██████████| 938/938 [02:00<00:00,  7.77it/s]\n",
      "100%|██████████| 157/157 [00:05<00:00, 28.39it/s]"
     ]
    },
    {
     "name": "stdout",
     "output_type": "stream",
     "text": [
      "wl 7 epoch 7\n",
      "{'loss': 0.01098327252095575, 'accuracy': 99.64333333333333}\n",
      "{'loss': 0.03037091475023808, 'accuracy': 99.15}\n"
     ]
    },
    {
     "name": "stderr",
     "output_type": "stream",
     "text": [
      "\n",
      "100%|██████████| 938/938 [02:13<00:00,  7.00it/s]\n",
      "100%|██████████| 157/157 [00:05<00:00, 27.96it/s]"
     ]
    },
    {
     "name": "stdout",
     "output_type": "stream",
     "text": [
      "wl 7 epoch 8\n",
      "{'loss': 0.011873036278427267, 'accuracy': 99.63666666666666}\n",
      "{'loss': 0.03217451237767364, 'accuracy': 98.91}\n"
     ]
    },
    {
     "name": "stderr",
     "output_type": "stream",
     "text": [
      "\n",
      "100%|██████████| 938/938 [02:29<00:00,  6.28it/s]\n",
      "100%|██████████| 157/157 [00:05<00:00, 26.75it/s]"
     ]
    },
    {
     "name": "stdout",
     "output_type": "stream",
     "text": [
      "wl 7 epoch 9\n",
      "{'loss': 0.00822679384474953, 'accuracy': 99.715}\n",
      "{'loss': 0.02855629707527114, 'accuracy': 99.18}\n"
     ]
    },
    {
     "name": "stderr",
     "output_type": "stream",
     "text": [
      "\n",
      "100%|██████████| 938/938 [02:33<00:00,  5.93it/s]\n",
      "100%|██████████| 157/157 [00:06<00:00, 22.62it/s]"
     ]
    },
    {
     "name": "stdout",
     "output_type": "stream",
     "text": [
      "wl 8 epoch 0\n",
      "{'loss': 0.13502237941933176, 'accuracy': 95.825}\n",
      "{'loss': 0.06307505866903812, 'accuracy': 98.1}\n"
     ]
    },
    {
     "name": "stderr",
     "output_type": "stream",
     "text": [
      "\n",
      "100%|██████████| 938/938 [02:27<00:00,  6.35it/s]\n",
      "100%|██████████| 157/157 [00:06<00:00, 24.38it/s]"
     ]
    },
    {
     "name": "stdout",
     "output_type": "stream",
     "text": [
      "wl 8 epoch 1\n",
      "{'loss': 0.045832087108679115, 'accuracy': 98.62166666666667}\n",
      "{'loss': 0.044759277248894794, 'accuracy': 98.68}\n"
     ]
    },
    {
     "name": "stderr",
     "output_type": "stream",
     "text": [
      "\n",
      "100%|██████████| 938/938 [02:16<00:00,  6.87it/s]\n",
      "100%|██████████| 157/157 [00:06<00:00, 25.36it/s]"
     ]
    },
    {
     "name": "stdout",
     "output_type": "stream",
     "text": [
      "wl 8 epoch 2\n",
      "{'loss': 0.031195815844081033, 'accuracy': 98.985}\n",
      "{'loss': 0.04402063139528036, 'accuracy': 98.69}\n"
     ]
    },
    {
     "name": "stderr",
     "output_type": "stream",
     "text": [
      "\n",
      "100%|██████████| 938/938 [02:18<00:00,  7.45it/s]\n",
      "100%|██████████| 157/157 [00:06<00:00, 25.25it/s]"
     ]
    },
    {
     "name": "stdout",
     "output_type": "stream",
     "text": [
      "wl 8 epoch 3\n",
      "{'loss': 0.027324702826545883, 'accuracy': 99.16666666666667}\n",
      "{'loss': 0.030188838570464577, 'accuracy': 99.09}\n"
     ]
    },
    {
     "name": "stderr",
     "output_type": "stream",
     "text": [
      "\n",
      "100%|██████████| 938/938 [02:11<00:00,  7.11it/s]\n",
      "100%|██████████| 157/157 [00:05<00:00, 26.34it/s]"
     ]
    },
    {
     "name": "stdout",
     "output_type": "stream",
     "text": [
      "wl 8 epoch 4\n",
      "{'loss': 0.01732947225580768, 'accuracy': 99.455}\n",
      "{'loss': 0.038958171679332736, 'accuracy': 98.88}\n"
     ]
    },
    {
     "name": "stderr",
     "output_type": "stream",
     "text": [
      "\n",
      "100%|██████████| 938/938 [02:29<00:00,  5.13it/s]\n",
      "100%|██████████| 157/157 [00:11<00:00, 13.70it/s]"
     ]
    },
    {
     "name": "stdout",
     "output_type": "stream",
     "text": [
      "wl 8 epoch 5\n",
      "{'loss': 0.017991988028376364, 'accuracy': 99.40666666666667}\n",
      "{'loss': 0.03532341599056963, 'accuracy': 99.06}\n"
     ]
    },
    {
     "name": "stderr",
     "output_type": "stream",
     "text": [
      "\n",
      "100%|██████████| 938/938 [02:28<00:00,  6.31it/s]\n",
      "100%|██████████| 157/157 [00:09<00:00, 16.28it/s]"
     ]
    },
    {
     "name": "stdout",
     "output_type": "stream",
     "text": [
      "wl 8 epoch 6\n",
      "{'loss': 0.013470020568436302, 'accuracy': 99.57666666666667}\n",
      "{'loss': 0.029696965416017337, 'accuracy': 99.19}\n"
     ]
    },
    {
     "name": "stderr",
     "output_type": "stream",
     "text": [
      "\n",
      "100%|██████████| 938/938 [02:28<00:00,  6.30it/s]\n",
      "100%|██████████| 157/157 [00:05<00:00, 28.16it/s]"
     ]
    },
    {
     "name": "stdout",
     "output_type": "stream",
     "text": [
      "wl 8 epoch 7\n",
      "{'loss': 0.010849651863380374, 'accuracy': 99.64666666666666}\n",
      "{'loss': 0.05526351119707397, 'accuracy': 98.50999999999999}\n"
     ]
    },
    {
     "name": "stderr",
     "output_type": "stream",
     "text": [
      "\n",
      "100%|██████████| 938/938 [02:06<00:00,  7.41it/s]\n",
      "100%|██████████| 157/157 [00:05<00:00, 27.89it/s]"
     ]
    },
    {
     "name": "stdout",
     "output_type": "stream",
     "text": [
      "wl 8 epoch 8\n",
      "{'loss': 0.013983112523942449, 'accuracy': 99.55833333333334}\n",
      "{'loss': 0.0325831268714629, 'accuracy': 99.14}\n"
     ]
    },
    {
     "name": "stderr",
     "output_type": "stream",
     "text": [
      "\n",
      "100%|██████████| 938/938 [02:23<00:00,  7.55it/s]\n",
      "100%|██████████| 157/157 [00:06<00:00, 24.26it/s]"
     ]
    },
    {
     "name": "stdout",
     "output_type": "stream",
     "text": [
      "wl 8 epoch 9\n",
      "{'loss': 0.009021981663269495, 'accuracy': 99.71833333333333}\n",
      "{'loss': 0.03028323614138526, 'accuracy': 99.16}\n",
      "[(1, 99.19), (2, 99.15), (3, 98.98), (4, 99.14), (5, 99.22999999999999), (6, 99.14), (7, 99.18), (8, 99.16)]\n"
     ]
    },
    {
     "name": "stderr",
     "output_type": "stream",
     "text": [
      "\n"
     ]
    }
   ],
   "source": [
    "res = []\n",
    "(minp, maxp) = (1,8)\n",
    "for wl in range(minp, maxp+1):\n",
    "    # define two floating point formats\n",
    "    lowp = BlockFloatingPoint(wl=8, dim=-1)   \n",
    "    highp = FloatingPoint(exp=8, man=7)      # this is bfloat16\n",
    "\n",
    "    # define quantization functions\n",
    "    weight_quant = Quantizer(forward_number=lowp, backward_number=None,\n",
    "                            forward_rounding=\"nearest\", backward_rounding=\"nearest\")\n",
    "    grad_quant = Quantizer(forward_number=lowp, backward_number=None,\n",
    "                            forward_rounding=\"nearest\", backward_rounding=\"stochastic\")\n",
    "    momentum_quant = Quantizer(forward_number=highp, backward_number=None,\n",
    "                            forward_rounding=\"nearest\", backward_rounding=\"stochastic\")\n",
    "    acc_quant = Quantizer(forward_number=highp, backward_number=None,\n",
    "                            forward_rounding=\"nearest\", backward_rounding=\"nearest\")\n",
    "\n",
    "    # define a lambda function so that the Quantizer module can be duplicated easily\n",
    "    act_error_quant = lambda : Quantizer(forward_number=lowp, backward_number=lowp,\n",
    "                            forward_rounding=\"nearest\", backward_rounding=\"nearest\")\n",
    "    use_cuda = False\n",
    "    device = torch.device(\"cuda\" if use_cuda else \"cpu\")\n",
    "    model = lp_Net(act_error_quant).to(device)\n",
    "    optimizer = SGD(model.parameters(), lr=0.05, momentum=0.9, weight_decay=1e-4)\n",
    "    lp_optimizer = OptimLP(optimizer,\n",
    "                        weight_quant=weight_quant,\n",
    "                        grad_quant=grad_quant,\n",
    "                        momentum_quant=momentum_quant,\n",
    "                        acc_quant=acc_quant\n",
    "    )\n",
    "    for epoch in range(mxepochs):\n",
    "        train_res = run_epoch(loaders['train'], model, F.cross_entropy,\n",
    "                                    optimizer=lp_optimizer, phase=\"train\")\n",
    "        test_res = run_epoch(loaders['test'], model, F.cross_entropy,\n",
    "                                    optimizer=lp_optimizer, phase=\"eval\")\n",
    "        print('wl', wl, 'epoch', epoch)\n",
    "        print(train_res)\n",
    "        print(test_res)\n",
    "        \n",
    "    # make scatterplot\n",
    "    res.append((wl, test_res['accuracy']))\n",
    "print(res)"
   ]
  },
  {
   "cell_type": "markdown",
   "metadata": {},
   "source": [
    "Make a scatterplot of the results, also draw a line to show the bfloat16 result"
   ]
  },
  {
   "cell_type": "code",
   "execution_count": 14,
   "metadata": {},
   "outputs": [
    {
     "data": {
      "text/plain": [
       "[<matplotlib.lines.Line2D at 0x121018be0>]"
      ]
     },
     "execution_count": 14,
     "metadata": {},
     "output_type": "execute_result"
    },
    {
     "data": {
      "image/png": "[encoded data removed]",
      "text/plain": [
       "<Figure size 432x288 with 1 Axes>"
      ]
     },
     "metadata": {
      "needs_background": "light"
     },
     "output_type": "display_data"
    }
   ],
   "source": [
    "plt_res=np.array(res)\n",
    "plt.plot(plt_res[:,0], plt_res[:,1], 'x')\n",
    "plt.plot((minp,maxp),(fp_test_res['accuracy'], fp_test_res['accuracy']))\n"
   ]
  },
  {
   "cell_type": "code",
   "execution_count": 15,
   "metadata": {},
   "outputs": [
    {
     "name": "stdout",
     "output_type": "stream",
     "text": [
      "Total execution time (s): 51398.055698394775\n"
     ]
    }
   ],
   "source": [
    "print(\"Total execution time (s):\", time.time() - start_time)"
   ]
  }
 ],
 "metadata": {
  "kernelspec": {
   "display_name": "Python 3",
   "language": "python",
   "name": "python3"
  },
  "language_info": {
   "codemirror_mode": {
    "name": "ipython",
    "version": 3
   },
   "file_extension": ".py",
   "mimetype": "text/x-python",
   "name": "python",
   "nbconvert_exporter": "python",
   "pygments_lexer": "ipython3",
   "version": "3.7.3"
  }
 },
 "nbformat": 4,
 "nbformat_minor": 2
}
