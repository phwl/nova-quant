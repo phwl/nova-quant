{
 "cells": [
  {
   "cell_type": "markdown",
   "metadata": {},
   "source": [
    "# Stochastic Rounding Tutorial (Solution)"
   ]
  },
  {
   "cell_type": "markdown",
   "metadata": {},
   "source": [
    "## 1. Unoptimised implementation"
   ]
  },
  {
   "cell_type": "markdown",
   "metadata": {},
   "source": [
    "First import numpy and timing libraries"
   ]
  },
  {
   "cell_type": "code",
   "execution_count": 1,
   "metadata": {},
   "outputs": [],
   "source": [
    "import numpy as np\n",
    "from timeit import timeit\n",
    "\n",
    "# computes elementwise relative error of elements of lists x1 and x2\n",
    "def relative_error(x1, x2):\n",
    "    ret = []\n",
    "    for (i, r) in zip(x1, x2):\n",
    "        ret.append(abs(i - r) / r)\n",
    "    return ret"
   ]
  },
  {
   "cell_type": "markdown",
   "metadata": {},
   "source": [
    "Unoptimised implementation of stochastic rounding. "
   ]
  },
  {
   "cell_type": "code",
   "execution_count": 2,
   "metadata": {},
   "outputs": [],
   "source": [
    "# from https://medium.com/@minghz42/what-is-stochastic-rounding-b78670d0c4a\n",
    "# Generates s randomly rounded values of x. The mean should be x.\n",
    "def rstoc(x, s):\n",
    "    r = []\n",
    "    for i in range(s):\n",
    "        decimal = abs(x - np.trunc(x))\n",
    "        random_selector = np.random.random_sample()\n",
    "        if (random_selector < decimal):\n",
    "            adjustor = 1\n",
    "        else:\n",
    "            adjustor = 0\n",
    "        if(x < 0):\n",
    "            adjustor = -1 * adjustor\n",
    "        r.append(np.trunc(x) + adjustor)\n",
    "    return r\n",
    "\n",
    "# For each element x of the list v, compute the mean of rstoc(x, s). Return as another list\n",
    "def E_seq(v, s):\n",
    "    return map(lambda x : np.mean(rstoc(x, s)), v)"
   ]
  },
  {
   "cell_type": "markdown",
   "metadata": {},
   "source": [
    "Run stochastic rounding for different values of s (and a fixed v). The output is the relative error compared with the expected value."
   ]
  },
  {
   "cell_type": "code",
   "execution_count": 3,
   "metadata": {},
   "outputs": [
    {
     "name": "stdout",
     "output_type": "stream",
     "text": [
      "1 [-0.18962722852512154, 1.0, 1.0, 0.47297098247164543]\n",
      "10 [-0.10858995137763362, 1.0, 0.0, 0.11621741051701277]\n",
      "100 [-0.07617504051863865, 0.4000000000000001, 0.040000000000000036, 0.016349977905435263]\n",
      "1000 [-0.008103727714748791, 0.020000000000000018, 0.026000000000000023, 0.049933716305788675]\n",
      "10000 [-0.0018638573743921952, 0.050000000000000044, 0.0030000000000000027, 0.004566210045662252]\n",
      "100000 [-0.0012479740680712114, 0.017100000000000032, 0.0012999999999999678, 0.0025924289291502354]\n",
      "1000000 [-0.00012560777957852935, 0.00026999999999999247, 0.00024199999999996447, 8.248637501849463e-05]\n",
      "Execution time rstoc() 11.312495149 \n",
      "\n"
     ]
    }
   ],
   "source": [
    "spower = 7 \t# samples to try (execution time grows exponentiall)\n",
    "v = [-1.234, 0.1, 0.5, 0.6789]\n",
    "\n",
    "# this function runs \n",
    "def run_rstoc():\n",
    "    for i in range(spower):\n",
    "        print(10 ** i, list(relative_error(E_seq(v, 10 ** i), v)))\n",
    "t_rstoc = timeit(run_rstoc, number=1)\n",
    "print(\"Execution time rstoc()\", t_rstoc, '\\n')"
   ]
  },
  {
   "cell_type": "markdown",
   "metadata": {},
   "source": [
    "## 2. Optimised implementation\n",
    "\n",
    "In this part, change frstoc() to be as fast as possible (while computing the correct result)"
   ]
  },
  {
   "cell_type": "markdown",
   "metadata": {},
   "source": [
    "Here is a faster implementation in which the s random samples are generated in frstoc"
   ]
  },
  {
   "cell_type": "code",
   "execution_count": 4,
   "metadata": {},
   "outputs": [],
   "source": [
    "# replace with your optimised implementation \n",
    "def frstoc(x, s):  \n",
    "    return np.floor(x + np.random.random_sample(s))\n",
    "\n",
    "# For each element x of the list v, compute the mean of rstoc(x, s). Return as another list\n",
    "def E_vec(v, s):\n",
    "    return map(lambda x : np.mean(frstoc(x, s)), v)\n",
    "\n",
    "def run_vec():\n",
    "    for i in range(spower):\n",
    "        print(10 ** i, list(relative_error(E_vec(v, 10 ** i), v)))"
   ]
  },
  {
   "cell_type": "markdown",
   "metadata": {},
   "source": [
    "Run and check speed"
   ]
  },
  {
   "cell_type": "code",
   "execution_count": 5,
   "metadata": {},
   "outputs": [
    {
     "name": "stdout",
     "output_type": "stream",
     "text": [
      "1 [-0.18962722852512154, 1.0, 1.0, 1.0]\n",
      "10 [-0.05348460291734203, 0.0, 0.19999999999999996, 0.3256738842244809]\n",
      "100 [-0.05996758508914106, 0.3, 0.020000000000000018, 0.04256886139343044]\n",
      "1000 [-0.0008103727714747892, 0.07999999999999993, 0.020000000000000018, 0.013404035940491969]\n",
      "10000 [-0.0035656401944894325, 0.00800000000000009, 0.010000000000000009, 0.004271615849167792]\n",
      "100000 [-0.0008589951377634206, 0.0007999999999999674, 0.0005999999999999339, 0.00013256738842233536]\n",
      "1000000 [-0.0004643435980550524, 0.0008900000000000574, 0.0007900000000000684, 0.000540580350567103]\n",
      "Execution time vec_f_rstoc() 0.07230905599999993\n",
      "Speedup 156.44645048332552\n"
     ]
    }
   ],
   "source": [
    "t_frstoc = timeit(run_vec, number=1)\n",
    "print(\"Execution time vec_f_rstoc()\", t_frstoc)\n",
    "print(\"Speedup\", t_rstoc / t_frstoc)\n"
   ]
  }
 ],
 "metadata": {
  "kernelspec": {
   "display_name": "Python 3",
   "language": "python",
   "name": "python3"
  },
  "language_info": {
   "codemirror_mode": {
    "name": "ipython",
    "version": 3
   },
   "file_extension": ".py",
   "mimetype": "text/x-python",
   "name": "python",
   "nbconvert_exporter": "python",
   "pygments_lexer": "ipython3",
   "version": "3.7.3"
  }
 },
 "nbformat": 4,
 "nbformat_minor": 2
}
